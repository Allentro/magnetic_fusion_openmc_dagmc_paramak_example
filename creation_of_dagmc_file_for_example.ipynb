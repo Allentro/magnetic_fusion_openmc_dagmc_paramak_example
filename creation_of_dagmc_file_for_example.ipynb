{
 "cells": [
  {
   "cell_type": "markdown",
   "metadata": {},
   "source": [
    "# This notebook creates the dagmc.h5m for the openmc example,\n",
    "\n",
    "It is a little verbose because I wanted to change the material tags on the h5m produced"
   ]
  },
  {
   "cell_type": "markdown",
   "metadata": {},
   "source": [
    "This section makes the reactor mode, you will need jupyter-cadquery to show the model in 3d"
   ]
  },
  {
   "cell_type": "code",
   "execution_count": 1,
   "metadata": {},
   "outputs": [
    {
     "name": "stdout",
     "output_type": "stream",
     "text": [
      "Overwriting auto display for cadquery Workplane and Shape\n"
     ]
    },
    {
     "data": {
      "application/vnd.jupyter.widget-view+json": {
       "model_id": "0c5cbe0ff8294195bef6934884982d78",
       "version_major": 2,
       "version_minor": 0
      },
      "text/plain": [
       "HBox(children=(VBox(children=(HBox(children=(Checkbox(value=False, description='Axes', indent=False, _dom_clas…"
      ]
     },
     "metadata": {},
     "output_type": "display_data"
    },
    {
     "data": {
      "text/html": [
       "<style>\n",
       ".scroll-area {\n",
       "    overflow: scroll !important;\n",
       "    border: unset !important;\n",
       "}\n",
       "\n",
       ".mac-scrollbar::-webkit-scrollbar {\n",
       "    width: 5px !important;\n",
       "    height: 5px !important;\n",
       "}\n",
       "\n",
       ".mac-scrollbar::-webkit-scrollbar-track {\n",
       "    background-color: transparent !important;\n",
       "}\n",
       "\n",
       ".mac-scrollbar .widget-html-content {\n",
       "    overflow-x: visible;\n",
       "    overflow-y: visible;\n",
       "}\n",
       "\n",
       ".tab-content-no-padding .widget-tab-contents {\n",
       "    overflow-x: visible !important;\n",
       "    overflow-y: visible !important;\n",
       "    padding-bottom: 0px !important;\n",
       "}\n",
       "\n",
       ".view_renderer {\n",
       "    border: 1px solid var(--jp-border-color1);\n",
       "    margin-top: 3px;\n",
       "    margin-left: 2px;\n",
       "}\n",
       "\n",
       ".view_tree {\n",
       "    padding: 0px !important;\n",
       "}\n",
       "\n",
       ".view_axes {\n",
       "    width: 60px !important;\n",
       "    margin-left: 5px !important;\n",
       "}\n",
       "\n",
       ".view_zero {\n",
       "    width: 55px !important;\n",
       "}\n",
       "\n",
       ".view_grid {\n",
       "    width: 56px !important;\n",
       "}\n",
       "\n",
       ".view_ortho {\n",
       "    width: 64px !important;\n",
       "}\n",
       "\n",
       ".view_transparent {\n",
       "    width: 125px !important;\n",
       "}\n",
       "\n",
       ".view_black_edges {\n",
       "    width: 105px !important;\n",
       "}\n",
       "\n",
       ".view_button {\n",
       "    padding: 0px !important;\n",
       "}\n",
       "\n",
       ".view_button>img {\n",
       "    height: 28px;\n",
       "    width: 36px;\n",
       "}\n",
       "\n",
       ".node_entry_wrap {\n",
       "    white-space: pre;\n",
       "}\n",
       "\n",
       ".node_entry {\n",
       "    white-space: nowrap;\n",
       "    padding-top: 4px;\n",
       "}\n",
       "\n",
       ".t-caret {\n",
       "    cursor: pointer;\n",
       "    -webkit-user-select: none;\n",
       "    /* Safari 3.1+ */\n",
       "    -moz-user-select: none;\n",
       "    /* Firefox 2+ */\n",
       "    -ms-user-select: none;\n",
       "    /* IE 10+ */\n",
       "    user-select: none;\n",
       "}\n",
       "\n",
       ".t-caret-down::before {\n",
       "    -ms-transform: rotate(90deg);\n",
       "    /* IE 9 */\n",
       "    -webkit-transform: rotate(90deg);\n",
       "    /* Safari */\n",
       "    transform: rotate(90deg);\n",
       "}\n",
       "\n",
       ".toplevel {\n",
       "    list-style-type: none;\n",
       "    padding-inline-start: 0px;\n",
       "}\n",
       "\n",
       ".nested {\n",
       "    display: none;\n",
       "    list-style-type: none;\n",
       "    padding-inline-start: 16px;\n",
       "}\n",
       "\n",
       ".active {\n",
       "    display: block;\n",
       "}\n",
       "\n",
       ".icon {\n",
       "    width: 28px !important;\n",
       "    height: 22px !important;\n",
       "    padding-right: 2px;\n",
       "    vertical-align: middle;\n",
       "}\n",
       "\n",
       ".indent {\n",
       "    margin-left: 12px;\n",
       "}\n",
       "\n",
       ".tree_label {\n",
       "    padding-left: 2px;\n",
       "    font-size: 14px;\n",
       "}\n",
       "\n",
       ".scroll_down {\n",
       "    display: flex;\n",
       "    flex-direction: column-reverse;\n",
       "}\n",
       "\n",
       ".small_table {\n",
       "    line-height: 14px;\n",
       "}\n",
       "\n",
       ".monospace select {\n",
       "    font-family: monospace;\n",
       "}\n",
       "\n",
       "        .t-caret::before {\n",
       "            content: u\"▶\";\n",
       "            font-size: 12px;\n",
       "            color: \"#080808\";\n",
       "            display: inline-block;\n",
       "            margin-right: 2px;\n",
       "        }\n",
       "\n",
       "        .mac-scrollbar::-webkit-scrollbar-thumb {\n",
       "            background-color: rgba(0, 0, 0, 0.2) !important;\n",
       "            border-radius: 100px !important;\n",
       "        }\n",
       "\n",
       "        .mac-scrollbar::-webkit-scrollbar-thumb:hover {\n",
       "            background: rgba(0, 0, 0, 0.4) !important;\n",
       "        }\n",
       "\n",
       "        .mac-scrollbar::-webkit-scrollbar-thumb:active {\n",
       "            background: #181818 !important;\n",
       "        }\n",
       "\n",
       "        .mac-scrollbar::-webkit-scrollbar-corner {\n",
       "            background: white;\n",
       "        }\n",
       "\n",
       "        .view_output {\n",
       "            border: 1px solid var(--jp-border-color1);\n",
       "            margin: 2px 2px 2px 2px !important;\n",
       "            padding-right: 1px !important;\n",
       "            background-color: white;\n",
       "        }\n",
       "    </style>"
      ],
      "text/plain": [
       "<IPython.core.display.HTML object>"
      ]
     },
     "metadata": {},
     "output_type": "display_data"
    },
    {
     "data": {
      "text/plain": [
       "<jupyter_cadquery.cad_display.CadqueryDisplay at 0x7f82d8511a00>"
      ]
     },
     "execution_count": 1,
     "metadata": {},
     "output_type": "execute_result"
    }
   ],
   "source": [
    "import paramak\n",
    "\n",
    "my_reactor = paramak.SubmersionTokamak(\n",
    "    inner_bore_radial_thickness=30,\n",
    "    inboard_tf_leg_radial_thickness=30,\n",
    "    center_column_shield_radial_thickness=30,\n",
    "    divertor_radial_thickness=80,\n",
    "    inner_plasma_gap_radial_thickness=50,\n",
    "    plasma_radial_thickness=200,\n",
    "    outer_plasma_gap_radial_thickness=50,\n",
    "    firstwall_radial_thickness=30,\n",
    "    blanket_rear_wall_radial_thickness=30,\n",
    "    number_of_tf_coils=16,\n",
    "    rotation_angle=90,\n",
    "    support_radial_thickness=90,\n",
    "    inboard_blanket_radial_thickness=30,\n",
    "    outboard_blanket_radial_thickness=30,\n",
    "    elongation=2.00,\n",
    "    triangularity=0.50,\n",
    "    pf_coil_case_thicknesses=[10, 10, 10, 10],\n",
    "    pf_coil_radial_thicknesses=[20, 50, 50, 20],\n",
    "    pf_coil_vertical_thicknesses=[20, 50, 50, 20],\n",
    "    pf_coil_radial_position=[500, 550, 550, 500],\n",
    "    pf_coil_vertical_position=[270, 100, -100, -270],\n",
    "    rear_blanket_to_tf_gap=50,\n",
    "    outboard_tf_coil_radial_thickness=30,\n",
    "    outboard_tf_coil_poloidal_thickness=30,\n",
    ")\n",
    "\n",
    "my_reactor.show()"
   ]
  },
  {
   "cell_type": "markdown",
   "metadata": {},
   "source": [
    "This section writes the default manifest file, as you can see the material tags are a bit long and hence they were shortened for the example"
   ]
  },
  {
   "cell_type": "code",
   "execution_count": 2,
   "metadata": {},
   "outputs": [
    {
     "name": "stdout",
     "output_type": "stream",
     "text": [
      "Saved file as  reactor.svg\n"
     ]
    }
   ],
   "source": [
    "my_reactor.export_svg(projectionDir=(-5, -3, 2), showHidden=False)\n",
    "!eog reactor.svg"
   ]
  },
  {
   "cell_type": "code",
   "execution_count": 3,
   "metadata": {},
   "outputs": [
    {
     "data": {
      "application/vnd.jupyter.widget-view+json": {
       "model_id": "3436cb54aab9407f8b0f179378d9b2c8",
       "version_major": 2,
       "version_minor": 0
      },
      "text/plain": [
       "HBox(children=(VBox(children=(HBox(children=(Checkbox(value=False, description='Axes', indent=False, _dom_clas…"
      ]
     },
     "metadata": {},
     "output_type": "display_data"
    }
   ],
   "source": [
    "my_reactor.export_html_3d('reactor_3d.html')\n",
    "!firefox reactor_3d.html"
   ]
  },
  {
   "cell_type": "markdown",
   "metadata": {},
   "source": [
    "simply exports all the geometry as stp files, one stp file for each component / material"
   ]
  },
  {
   "cell_type": "code",
   "execution_count": 4,
   "metadata": {},
   "outputs": [
    {
     "name": "stdout",
     "output_type": "stream",
     "text": [
      "\n",
      "*******************************************************************\n",
      "******        Statistics on Transfer (Write)                 ******\n",
      "\n",
      "*******************************************************************\n",
      "******        Transfer Mode = 0  I.E.  As Is       ******\n",
      "******        Transferring Shape, ShapeType = 0                      ******\n",
      "** WorkSession : Sending all data\n",
      " Step File Name : pf_coil.stp(1478 ents)  Write  Done\n",
      "\n",
      "*******************************************************************\n",
      "******        Statistics on Transfer (Write)                 ******\n",
      "\n",
      "*******************************************************************\n",
      "******        Transfer Mode = 0  I.E.  As Is       ******\n",
      "******        Transferring Shape, ShapeType = 0                      ******\n",
      "** WorkSession : Sending all data\n",
      " Step File Name : pf_coil_case.stp(2758 ents)  Write  Done\n",
      "\n",
      "*******************************************************************\n",
      "******        Statistics on Transfer (Write)                 ******\n",
      "\n",
      "*******************************************************************\n",
      "******        Transfer Mode = 0  I.E.  As Is       ******\n",
      "******        Transferring Shape, ShapeType = 0                      ******\n",
      "** WorkSession : Sending all data\n",
      " Step File Name : plasma.stp(471 ents)  Write  Done\n",
      "\n",
      "*******************************************************************\n",
      "******        Statistics on Transfer (Write)                 ******\n",
      "\n",
      "*******************************************************************\n",
      "******        Transfer Mode = 0  I.E.  As Is       ******\n",
      "******        Transferring Shape, ShapeType = 0                      ******\n",
      "** WorkSession : Sending all data\n",
      " Step File Name : center_column_shield.stp(455 ents)  Write  Done\n",
      "\n",
      "*******************************************************************\n",
      "******        Statistics on Transfer (Write)                 ******\n",
      "\n",
      "*******************************************************************\n",
      "******        Transfer Mode = 0  I.E.  As Is       ******\n",
      "******        Transferring Shape, ShapeType = 0                      ******\n",
      "** WorkSession : Sending all data\n",
      " Step File Name : outboard_firstwall.stp(2572 ents)  Write  Done\n",
      "\n",
      "*******************************************************************\n",
      "******        Statistics on Transfer (Write)                 ******\n",
      "\n",
      "*******************************************************************\n",
      "******        Transfer Mode = 0  I.E.  As Is       ******\n",
      "******        Transferring Shape, ShapeType = 0                      ******\n",
      "** WorkSession : Sending all data\n",
      " Step File Name : blanket.stp(2330 ents)  Write  Done\n",
      "\n",
      "*******************************************************************\n",
      "******        Statistics on Transfer (Write)                 ******\n",
      "\n",
      "*******************************************************************\n",
      "******        Transfer Mode = 0  I.E.  As Is       ******\n",
      "******        Transferring Shape, ShapeType = 0                      ******\n",
      "** WorkSession : Sending all data\n",
      " Step File Name : divertor.stp(3996 ents)  Write  Done\n",
      "\n",
      "*******************************************************************\n",
      "******        Statistics on Transfer (Write)                 ******\n",
      "\n",
      "*******************************************************************\n",
      "******        Transfer Mode = 0  I.E.  As Is       ******\n",
      "******        Transferring Shape, ShapeType = 0                      ******\n",
      "** WorkSession : Sending all data\n",
      " Step File Name : supports.stp(3302 ents)  Write  Done\n",
      "\n",
      "*******************************************************************\n",
      "******        Statistics on Transfer (Write)                 ******\n",
      "\n",
      "*******************************************************************\n",
      "******        Transfer Mode = 0  I.E.  As Is       ******\n",
      "******        Transferring Shape, ShapeType = 0                      ******\n",
      "** WorkSession : Sending all data\n",
      " Step File Name : outboard_rear_blanket_wall.stp(2845 ents)  Write  Done\n",
      "\n",
      "*******************************************************************\n",
      "******        Statistics on Transfer (Write)                 ******\n",
      "\n",
      "*******************************************************************\n",
      "******        Transfer Mode = 0  I.E.  As Is       ******\n",
      "******        Transferring Shape, ShapeType = 0                      ******\n",
      "** WorkSession : Sending all data\n",
      " Step File Name : inboard_tf_coils.stp(455 ents)  Write  Done\n",
      "\n",
      "*******************************************************************\n",
      "******        Statistics on Transfer (Write)                 ******\n",
      "\n",
      "*******************************************************************\n",
      "******        Transfer Mode = 0  I.E.  As Is       ******\n",
      "******        Transferring Shape, ShapeType = 0                      ******\n",
      "** WorkSession : Sending all data\n",
      " Step File Name : extrudestraightshape.stp(6219 ents)  Write  Done\n"
     ]
    }
   ],
   "source": [
    "stp_filenames = my_reactor.export_stp()"
   ]
  },
  {
   "cell_type": "markdown",
   "metadata": {},
   "source": [
    "This section links the stp files with material tag names"
   ]
  },
  {
   "cell_type": "code",
   "execution_count": 10,
   "metadata": {},
   "outputs": [
    {
     "data": {
      "text/plain": [
       "[{'stp_filename': 'pf_coil.stp', 'material_tag': 'pf_coil'},\n",
       " {'stp_filename': 'pf_coil_case.stp', 'material_tag': 'pf_coil_case'},\n",
       " {'stp_filename': 'plasma.stp', 'material_tag': 'plasma'},\n",
       " {'stp_filename': 'center_column_shield.stp',\n",
       "  'material_tag': 'center_column_shield'},\n",
       " {'stp_filename': 'outboard_firstwall.stp',\n",
       "  'material_tag': 'outboard_firstwall'},\n",
       " {'stp_filename': 'blanket.stp', 'material_tag': 'blanket'},\n",
       " {'stp_filename': 'divertor.stp', 'material_tag': 'divertor'},\n",
       " {'stp_filename': 'supports.stp', 'material_tag': 'supports'},\n",
       " {'stp_filename': 'outboard_rear_blanket_wall.stp',\n",
       "  'material_tag': 'outboard_rear_blanket_wall'},\n",
       " {'stp_filename': 'inboard_tf_coils.stp', 'material_tag': 'inboard_tf_coils'},\n",
       " {'stp_filename': 'extrudestraightshape.stp',\n",
       "  'material_tag': 'extrudestraightshape'}]"
      ]
     },
     "execution_count": 10,
     "metadata": {},
     "output_type": "execute_result"
    }
   ],
   "source": [
    "filenames_with_tags = []\n",
    "\n",
    "for name, stp_filename in zip(my_reactor.name, stp_filenames):\n",
    "    filenames_with_tags.append({'stp_filename':stp_filename, 'material_tag':name})\n",
    "\n",
    "filenames_with_tags"
   ]
  },
  {
   "cell_type": "markdown",
   "metadata": {},
   "source": [
    "This writes out the dagmc.h5m file (assuming you have Trelis installed)"
   ]
  },
  {
   "cell_type": "code",
   "execution_count": null,
   "metadata": {},
   "outputs": [],
   "source": [
    "from cad_to_h5m import cad_to_h5m\n",
    "\n",
    "cad_to_h5m(\n",
    "    files_with_tags=filenames_with_tags,\n",
    "    h5m_filename='dagmc.h5m',\n",
    "    cubit_path='/opt/Coreform-Cubit-2021.5/bin/'  # this should be your path to the python cubit library\n",
    ")"
   ]
  },
  {
   "cell_type": "markdown",
   "metadata": {},
   "source": [
    "Another method of wrting a h5m file is to use stl_to_h5m. This is not an imprinted and merged geometry so not as good as the cad-to-h5m method\n",
    "\n",
    "Read about why imprinting and merging is required here https://svalinn.github.io/DAGMC/usersguide/cubit_basics.html"
   ]
  },
  {
   "cell_type": "markdown",
   "metadata": {},
   "source": [
    "This section exports the stl files needed"
   ]
  },
  {
   "cell_type": "code",
   "execution_count": 14,
   "metadata": {},
   "outputs": [],
   "source": [
    "stl_filenames = my_reactor.export_stl()\n",
    "!ls *.stl"
   ]
  },
  {
   "cell_type": "markdown",
   "metadata": {},
   "source": [
    "This section links the STL files with material tag names\n"
   ]
  },
  {
   "cell_type": "code",
   "execution_count": 15,
   "metadata": {},
   "outputs": [],
   "source": [
    "stl_filenames_with_tags = []\n",
    "\n",
    "for name, stl_filename in zip(my_reactor.name, stl_filenames):\n",
    "    stl_filenames_with_tags.append((stl_filename, name))"
   ]
  },
  {
   "cell_type": "code",
   "execution_count": 16,
   "metadata": {},
   "outputs": [
    {
     "data": {
      "text/plain": [
       "'dagmc_not_imprinted_or_merged.h5m'"
      ]
     },
     "execution_count": 16,
     "metadata": {},
     "output_type": "execute_result"
    }
   ],
   "source": [
    "from stl_to_h5m import stl_to_h5m\n",
    "\n",
    "stl_to_h5m(\n",
    "    files_with_tags=stl_filenames_with_tags,\n",
    "    h5m_filename='dagmc_not_imprinted_or_merged.h5m'\n",
    ")"
   ]
  }
 ],
 "metadata": {
  "kernelspec": {
   "display_name": "Python 3 (ipykernel)",
   "language": "python",
   "name": "python3"
  },
  "language_info": {
   "codemirror_mode": {
    "name": "ipython",
    "version": 3
   },
   "file_extension": ".py",
   "mimetype": "text/x-python",
   "name": "python",
   "nbconvert_exporter": "python",
   "pygments_lexer": "ipython3",
   "version": "3.8.12"
  }
 },
 "nbformat": 4,
 "nbformat_minor": 4
}
