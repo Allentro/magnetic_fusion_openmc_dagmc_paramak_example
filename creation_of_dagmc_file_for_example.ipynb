{
 "cells": [
  {
   "cell_type": "markdown",
   "metadata": {},
   "source": [
    "# This notebook creates the dagmc.h5m for the openmc example,\n",
    "\n",
    "It is a little verbose because I wanted to change the material tags on the h5m produced"
   ]
  },
  {
   "cell_type": "markdown",
   "metadata": {},
   "source": [
    "This section makes the reactor mode, you will need jupyter-cadquery to show the model in 3d"
   ]
  },
  {
   "cell_type": "code",
   "execution_count": null,
   "metadata": {},
   "outputs": [],
   "source": [
    "import paramak\n",
    "\n",
    "my_reactor = paramak.SubmersionTokamak(\n",
    "    inner_bore_radial_thickness=30,\n",
    "    inboard_tf_leg_radial_thickness=30,\n",
    "    center_column_shield_radial_thickness=30,\n",
    "    divertor_radial_thickness=80,\n",
    "    inner_plasma_gap_radial_thickness=50,\n",
    "    plasma_radial_thickness=200,\n",
    "    outer_plasma_gap_radial_thickness=50,\n",
    "    firstwall_radial_thickness=3,\n",
    "    blanket_rear_wall_radial_thickness=30,\n",
    "    number_of_tf_coils=16,\n",
    "    rotation_angle=90,\n",
    "    support_radial_thickness=80,\n",
    "    inboard_blanket_radial_thickness=50,\n",
    "    outboard_blanket_radial_thickness=70,\n",
    "    elongation=2.00,\n",
    "    triangularity=0.50,\n",
    "    pf_coil_radial_thicknesses=[30, 30, 30, 30],\n",
    "    pf_coil_vertical_thicknesses=[30, 30, 30, 30],\n",
    "    pf_coil_to_tf_coil_radial_gap=50,\n",
    "    outboard_tf_coil_radial_thickness=30,\n",
    "    outboard_tf_coil_poloidal_thickness=30,\n",
    "    tf_coil_to_rear_blanket_radial_gap=20,\n",
    ")\n",
    "\n",
    "my_reactor.show"
   ]
  },
  {
   "cell_type": "markdown",
   "metadata": {},
   "source": [
    "This section writes the default manifest file, as you can see the material tags are a bit long and hence they were shortened for the example"
   ]
  },
  {
   "cell_type": "code",
   "execution_count": null,
   "metadata": {},
   "outputs": [],
   "source": [
    "my_reactor.export_neutronics_description(\n",
    "    filename='manifest.json',\n",
    "    include_sector_wedge=True\n",
    ")\n",
    "!cat manifest.json"
   ]
  },
  {
   "cell_type": "markdown",
   "metadata": {},
   "source": [
    "simply exports all the geometry as stp files, one stp file for each component / material"
   ]
  },
  {
   "cell_type": "code",
   "execution_count": null,
   "metadata": {},
   "outputs": [],
   "source": [
    "my_reactor.export_stp()"
   ]
  },
  {
   "cell_type": "markdown",
   "metadata": {},
   "source": [
    "This is a new manifest file with simpler material tags"
   ]
  },
  {
   "cell_type": "code",
   "execution_count": null,
   "metadata": {},
   "outputs": [],
   "source": [
    "import json\n",
    "\n",
    "new_manifest=[\n",
    "    {\n",
    "        \"material_tag\": \"tungsten\",\n",
    "        \"stp_filename\": \"center_column_shield.stp\",\n",
    "    },\n",
    "    {\n",
    "        \"material_tag\": \"steel\",\n",
    "        \"stp_filename\": \"outboard_firstwall.stp\",\n",
    "    },\n",
    "    {\n",
    "        \"material_tag\": \"flibe\",\n",
    "        \"stp_filename\": \"blanket.stp\",\n",
    "    },\n",
    "    {\n",
    "        \"material_tag\": \"tungsten\",\n",
    "        \"stp_filename\": \"divertor.stp\",\n",
    "    },\n",
    "    {\n",
    "        \"material_tag\": \"steel\",\n",
    "        \"stp_filename\": \"supports.stp\",\n",
    "    },\n",
    "    {\n",
    "        \"material_tag\": \"steel\",\n",
    "        \"stp_filename\": \"outboard_rear_blanket_wall.stp\",\n",
    "    },\n",
    "    {\n",
    "        \"material_tag\": \"copper\",\n",
    "        \"stp_filename\": \"inboard_tf_coils.stp\",\n",
    "    },\n",
    "    {\n",
    "        \"material_tag\": \"copper\",\n",
    "        \"stp_filename\": \"outboard_tf_coil.stp\",\n",
    "    },\n",
    "    {\n",
    "        \"material_tag\": \"copper\",\n",
    "        \"stp_filename\": \"pf_coils.stp\",\n",
    "    },\n",
    "    {\n",
    "        \"material_tag\": \"steel\",\n",
    "        \"stp_filename\": \"pf_coil_cases.stp\",\n",
    "    },\n",
    "    {\n",
    "        \"material_tag\": \"graveyard\",\n",
    "        \"stp_filename\": \"graveyard.stp\",\n",
    "    },\n",
    "    {\n",
    "        \"material_tag\": \"Vacuum\",\n",
    "        \"stp_filename\": \"sector_wedge.stp\",\n",
    "        \"surface_reflectivity\": True,\n",
    "    }\n",
    "]\n",
    "\n",
    "with open('manifest.json', 'w') as outfile:\n",
    "    json.dump(new_manifest, outfile, indent=4)\n",
    "!cat manifest.json"
   ]
  },
  {
   "cell_type": "markdown",
   "metadata": {},
   "source": [
    "This writes out the dagmc.h5m file (assuming you have Trelis installed)"
   ]
  },
  {
   "cell_type": "code",
   "execution_count": null,
   "metadata": {},
   "outputs": [],
   "source": [
    "paramak.neutronics_utils.trelis_command_to_create_dagmc_h5m(\n",
    "        faceting_tolerance=1e-2,\n",
    "        merge_tolerance=1e-4,\n",
    "        material_key_name='material_tag',\n",
    "        geometry_key_name='stp_filename',\n",
    "        batch=True,\n",
    "        manifest_filename='manifest.json',\n",
    "        trelis_filename='dagmc_not_watertight.trelis',\n",
    "        cubit_filename='dagmc_not_watertight.cub',\n",
    "        h5m_filename='dagmc_not_watertight.h5m',\n",
    ")\n",
    "\n",
    "paramak.neutronics_utils.make_watertight(\n",
    "    input_filename='dagmc_not_watertight.h5m',\n",
    "    output_filename='dagmc.h5m',\n",
    ")"
   ]
  },
  {
   "cell_type": "markdown",
   "metadata": {},
   "source": [
    "This section might run slowly but it makes a html file that shows the model and the source particle location"
   ]
  },
  {
   "cell_type": "code",
   "execution_count": null,
   "metadata": {},
   "outputs": [],
   "source": [
    "import openmc\n",
    "source = openmc.Source()\n",
    "\n",
    "# the distribution of radius is just a single value at the plasma major radius\n",
    "radius = openmc.stats.Discrete([293.], [1])\n",
    "\n",
    "# the distribution of source z values is just a single value\n",
    "z_values = openmc.stats.Discrete([0], [1])\n",
    "\n",
    "# the distribution of source azimuthal angles values is a uniform distribution between 0 and 2 Pi\n",
    "angle = openmc.stats.Uniform(a=0., b=0.5* 3.14159265359)\n",
    "\n",
    "# this makes the ring source using the three distributions and a radius\n",
    "source.space = openmc.stats.CylindricalIndependent(r=radius, phi=angle, z=z_values, origin=(0.0, 0.0, 0.0))\n",
    "\n",
    "# sets the direction to isotropic\n",
    "source.angle = openmc.stats.Isotropic()\n",
    "\n",
    "# sets the energy distribution to a Muir distribution neutrons\n",
    "source.energy = openmc.stats.Muir(e0=14080000.0, m_rat=5.0, kt=20000.0)\n",
    "\n",
    "\n",
    "neutronics_model = paramak.NeutronicsModel(\n",
    "    geometry=my_reactor,\n",
    "    source=source,\n",
    "    materials ={\n",
    "        'tungsten':'Li4SiO4',\n",
    "        'steel':'Li4SiO4',\n",
    "        'flibe':'Li4SiO4',\n",
    "        'copper':'Li4SiO4',\n",
    "    }   \n",
    ")\n",
    "\n",
    "neutronics_model.export_html(\n",
    "        filename='3d_source.html',\n",
    "        view_plane='XYZ',\n",
    "        number_of_source_particles=1000\n",
    "    )"
   ]
  },
  {
   "cell_type": "code",
   "execution_count": null,
   "metadata": {},
   "outputs": [],
   "source": [
    "import openmc\n",
    "source = openmc.Source()\n",
    "\n",
    "# the distribution of radius is just a single value at the plasma major radius\n",
    "radius = openmc.stats.Discrete([293.], [1])\n",
    "\n",
    "# the distribution of source z values is just a single value\n",
    "z_values = openmc.stats.Discrete([0], [1])\n",
    "\n",
    "# the distribution of source azimuthal angles values is a uniform distribution between 0 and 2 Pi\n",
    "angle = openmc.stats.Uniform(a=0., b=0.5* 3.14159265359)\n",
    "\n",
    "# this makes the ring source using the three distributions and a radius\n",
    "source.space = openmc.stats.CylindricalIndependent(r=radius, phi=angle, z=z_values, origin=(0.0, 0.0, 0.0))\n",
    "\n",
    "# sets the direction to isotropic\n",
    "source.angle = openmc.stats.Isotropic()\n",
    "\n",
    "# sets the energy distribution to a Muir distribution neutrons\n",
    "source.energy = openmc.stats.Muir(e0=14080000.0, m_rat=5.0, kt=20000.0)\n"
   ]
  },
  {
   "cell_type": "code",
   "execution_count": null,
   "metadata": {},
   "outputs": [],
   "source": []
  }
 ],
 "metadata": {
  "kernelspec": {
   "display_name": "Python 3",
   "language": "python",
   "name": "python3"
  },
  "language_info": {
   "codemirror_mode": {
    "name": "ipython",
    "version": 3
   },
   "file_extension": ".py",
   "mimetype": "text/x-python",
   "name": "python",
   "nbconvert_exporter": "python",
   "pygments_lexer": "ipython3",
   "version": "3.8.3"
  }
 },
 "nbformat": 4,
 "nbformat_minor": 4
}
